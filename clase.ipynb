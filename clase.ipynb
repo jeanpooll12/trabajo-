{
  "nbformat": 4,
  "nbformat_minor": 0,
  "metadata": {
    "colab": {
      "provenance": [],
      "authorship_tag": "ABX9TyOvAqZx7CTQ2BAk8NMiP+dm",
      "include_colab_link": true
    },
    "kernelspec": {
      "name": "python3",
      "display_name": "Python 3"
    },
    "language_info": {
      "name": "python"
    }
  },
  "cells": [
    {
      "cell_type": "markdown",
      "metadata": {
        "id": "view-in-github",
        "colab_type": "text"
      },
      "source": [
        "<a href=\"https://colab.research.google.com/github/jeanpooll12/trabajo-/blob/main/clase.ipynb\" target=\"_parent\"><img src=\"https://colab.research.google.com/assets/colab-badge.svg\" alt=\"Open In Colab\"/></a>"
      ]
    },
    {
      "cell_type": "code",
      "execution_count": null,
      "metadata": {
        "id": "fy6-PIKDJ7f7"
      },
      "outputs": [],
      "source": [
        "a_string = \"cool\"\n",
        "a_int = 3\n",
        "\n",
        "print(type(a_string))\n",
        "print(type(a_int))"
      ]
    },
    {
      "cell_type": "code",
      "source": [
        "class MyClass:\n",
        "    pass\n",
        "class_instance = MyClass()\n",
        "print(class_instance)"
      ],
      "metadata": {
        "id": "-6zsI3dmK9lP"
      },
      "execution_count": null,
      "outputs": []
    },
    {
      "cell_type": "code",
      "source": [
        "class Student():\n",
        "    role = \"student\"\n",
        "jimena = Student()\n",
        "santiago = Student()\n",
        "\n",
        "print(jimena.role)\n",
        "print(santiago.role)"
      ],
      "metadata": {
        "colab": {
          "base_uri": "https://localhost:8080/"
        },
        "id": "539PHaEYK-dP",
        "outputId": "a3cd0460-30ae-4f3b-c788-c3614e7eeb34"
      },
      "execution_count": 51,
      "outputs": [
        {
          "output_type": "stream",
          "name": "stdout",
          "text": [
            "student\n",
            "student\n"
          ]
        }
      ]
    },
    {
      "cell_type": "code",
      "source": [
        "class Student():\n",
        "    role = \"estudiante\"\n",
        "    course = \"matematicas\"\n",
        "    def study(self):\n",
        "        print(f\"El/la {self.role} esta estudiando {self.course}.\")\n",
        "\n",
        "jimena = Student()\n",
        "jimena.study()"
      ],
      "metadata": {
        "id": "McqBEBkgLiVB"
      },
      "execution_count": null,
      "outputs": []
    },
    {
      "cell_type": "code",
      "source": [
        "class Student():\n",
        "    available_time = 4\n",
        "    def anough_time(self, activity, req_time):\n",
        "        if req_time < self.available_time:\n",
        "            print(f\"Tiene suficiente tiempo para {activity}.\")\n",
        "        else:\n",
        "            print(f\"No tiene suficuente tiempo para {activity}.\")\n",
        "\n",
        "jimena = Student()\n",
        "jimena.anough_time(\"Estudiar microcontroladores\", 3.5)"
      ],
      "metadata": {
        "id": "iuBTiKVMMb0l"
      },
      "execution_count": null,
      "outputs": []
    },
    {
      "cell_type": "code",
      "source": [
        "class Student():\n",
        "    def __init__(self, name, love_to_study):\n",
        "        print(f'mi nombre es {name} y me encanta estudiar {love_to_study}.')\n",
        "\n",
        "jimena = Student('jimena', 'matematica')\n",
        "santiago = Student('santiago', 'fisica')"
      ],
      "metadata": {
        "id": "_rB8T7A9Pf2e"
      },
      "execution_count": null,
      "outputs": []
    },
    {
      "cell_type": "code",
      "source": [
        "class AClass():\n",
        "    pass\n",
        "\n",
        "instance_1 = AClass()\n",
        "instance_2 = AClass()\n",
        "instance_1.some_var = 'A value'\n",
        "instance_2.some_var = 'Another value'\n",
        "print(f'{instance_1.some_var} - {instance_2.some_var}')"
      ],
      "metadata": {
        "id": "xnkUlCBJRFg_"
      },
      "execution_count": null,
      "outputs": []
    },
    {
      "cell_type": "code",
      "source": [
        "class WithoutAttributes:\n",
        "    pass\n",
        "\n",
        "instance_x =  WithoutAttributes()\n",
        "print(hasattr(instance_x, 'fake_attribute'))\n",
        "print(getattr(instance_x, 'another_attribute ', 'Nothing'))\n"
      ],
      "metadata": {
        "id": "pa_HDrRbR7yr"
      },
      "execution_count": null,
      "outputs": []
    },
    {
      "cell_type": "code",
      "source": [
        "class Student():\n",
        "    role = \"student\"\n",
        "    def __init__(self, name):\n",
        "        self.name = name\n",
        "    def present(self):\n",
        "        print(f'{self.role}´s name: {self.name}.')\n",
        "\n",
        "jimena = Student('jimena')\n",
        "jimena.present()"
      ],
      "metadata": {
        "id": "F7S9hdPmTVf-"
      },
      "execution_count": null,
      "outputs": []
    },
    {
      "cell_type": "code",
      "source": [
        "class AClass():\n",
        "    pass\n",
        "\n",
        "instance_x\n",
        "instance_x.some_var = 'A value'\n",
        "dir(instance_x)"
      ],
      "metadata": {
        "id": "e1eA32fmUNj7"
      },
      "execution_count": null,
      "outputs": []
    },
    {
      "cell_type": "code",
      "source": [
        "a_list = 10, \"xyz\"\n",
        "print(type(a_list))\n",
        "dir(a_list)"
      ],
      "metadata": {
        "id": "Xf7iA--0U1sY"
      },
      "execution_count": null,
      "outputs": []
    },
    {
      "cell_type": "code",
      "source": [
        "class Student():\n",
        "    role= \"estudiante\"\n",
        "    def __init__(self, name):\n",
        "        self.name = name\n",
        "    def __repr__(self):\n",
        "        return f\"una {self.role} de nombre {self.name}\"\n",
        "\n",
        "jimena = Student(\"jimena\")\n",
        "print(jimena)"
      ],
      "metadata": {
        "id": "J_HiaYVLVXWn"
      },
      "execution_count": null,
      "outputs": []
    },
    {
      "cell_type": "code",
      "source": [
        "class Dog():\n",
        "    sound = \"woof\"\n",
        "\n",
        "    def __init__(self, name, age):\n",
        "        self.name = name\n",
        "        self.age = age\n",
        "    def bark(self):\n",
        "        print(Dog.sound)"
      ],
      "metadata": {
        "id": "GRCMlckSWF4D"
      },
      "execution_count": 43,
      "outputs": []
    },
    {
      "cell_type": "code",
      "source": [
        "class Dog():\n",
        "    def bark(self):\n",
        "        print('Bark!')\n",
        "\n",
        "class Cat():\n",
        "    def bark(self):\n",
        "        print('meow!')"
      ],
      "metadata": {
        "id": "Yv2LmXNpXgoK"
      },
      "execution_count": 45,
      "outputs": []
    },
    {
      "cell_type": "code",
      "source": [
        "class Animal:\n",
        "    def __init__(self, name):\n",
        "        self.name = name\n",
        "\n",
        "    def make_noise(self):\n",
        "        print(\"{} says, grrrr\".format(self.name))\n",
        "\n",
        "pet_1 = Animal('rex')\n",
        "pet_1.make_noise"
      ],
      "metadata": {
        "id": "7gkYuMfsZAEG"
      },
      "execution_count": null,
      "outputs": []
    },
    {
      "cell_type": "code",
      "source": [
        "class Cat(Animal):\n",
        "    def make_noise(self):\n",
        "        print(\"{} says, meow\".format(self.name))\n",
        "\n",
        "pet_2 = Cat('maisy')\n",
        "pet_2.make_noise"
      ],
      "metadata": {
        "id": "w20qmN_6ZN9R"
      },
      "execution_count": null,
      "outputs": []
    },
    {
      "cell_type": "code",
      "source": [
        "class Animal:\n",
        "    def __init__(self, name, sound = \"grrrr\"):\n",
        "        self.name = name\n",
        "        self.sound = sound\n",
        "\n",
        "    def make_noise(self):\n",
        "        print(\"{} says, {}\".format(self.name,self.sound))\n",
        "\n",
        "class cat(Animal):\n",
        "    def __init__(self, name):\n",
        "        super().__init__(name, \"Meow!\"):\n",
        "\n",
        "pet_cat = cat('rachel')\n",
        "pet_cat.make_noise()"
      ],
      "metadata": {
        "colab": {
          "base_uri": "https://localhost:8080/",
          "height": 106
        },
        "id": "auKUyb2daj9d",
        "outputId": "824d2ce0-467a-4bcd-d5b1-2b5b58aedb34"
      },
      "execution_count": 59,
      "outputs": [
        {
          "output_type": "error",
          "ename": "SyntaxError",
          "evalue": "invalid syntax (<ipython-input-59-f39fe2dbd3a0>, line 11)",
          "traceback": [
            "\u001b[0;36m  File \u001b[0;32m\"<ipython-input-59-f39fe2dbd3a0>\"\u001b[0;36m, line \u001b[0;32m11\u001b[0m\n\u001b[0;31m    super().__init__(name, \"Meow!\"):\u001b[0m\n\u001b[0m                                   ^\u001b[0m\n\u001b[0;31mSyntaxError\u001b[0m\u001b[0;31m:\u001b[0m invalid syntax\n"
          ]
        }
      ]
    }
  ]
}