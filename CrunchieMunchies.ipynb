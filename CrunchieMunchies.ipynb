{
  "nbformat": 4,
  "nbformat_minor": 0,
  "metadata": {
    "colab": {
      "provenance": [],
      "mount_file_id": "1NqSTLTIPMoBWCEWkU_udzLp5rNbInYy4",
      "authorship_tag": "ABX9TyP5kEJI+bJIozptqbefG4K2",
      "include_colab_link": true
    },
    "kernelspec": {
      "name": "python3",
      "display_name": "Python 3"
    },
    "language_info": {
      "name": "python"
    }
  },
  "cells": [
    {
      "cell_type": "markdown",
      "metadata": {
        "id": "view-in-github",
        "colab_type": "text"
      },
      "source": [
        "<a href=\"https://colab.research.google.com/github/jeanpooll12/trabajo-/blob/main/CrunchieMunchies.ipynb\" target=\"_parent\"><img src=\"https://colab.research.google.com/assets/colab-badge.svg\" alt=\"Open In Colab\"/></a>"
      ]
    },
    {
      "cell_type": "code",
      "execution_count": null,
      "metadata": {
        "id": "3UJLwSFkAR_i"
      },
      "outputs": [],
      "source": [
        "import numpy as np\n",
        "\n",
        "calorie_stats = np.genfromtxt('/content/cereal.csv', delimiter =\",\")\n",
        "averange_calories = np.mean(calorie_stats)\n",
        "prom_calories = np.array(calorie_stats)\n",
        "median_calories = np.median(calorie_stats)\n",
        "calorie_stats_sorted = np.sort(calorie_stats)\n",
        "nth_percentile = None\n",
        "for p in range(100):\n",
        "  percentile_value = np.percentile(calorie_stats, p)\n",
        "  if percentile_value > 60:\n",
        "    break\n",
        "more_than_60 = np.sum(prom_calories > 60)\n",
        "total_cereales = len(prom_calories)\n",
        "more_calories = (more_than_60 / total_cereales) * 100\n",
        "more_calories = np.mean(calorie_stats > 60) * 100\n",
        "calorie_std = np.std(calorie_stats)\n",
        "print(calorie_stats_sorted)\n",
        "print(f\"CrunchieMunchies tiene {round((averange_calories-60), 1)} calorías menos que el promedio. \")\n",
        "print(\"Calorias promedio:\", np.mean(prom_calories))\n",
        "print(\"Mediana de calorías:\", median_calories)\n",
        "print(f\"El percentil {p}%: {percentile_value} calorias\")\n",
        "print(f\"El { more_calories}% de cereales tienen más de 60 calorías por porción.\")\n",
        "print(\"Desviación estándar de las calorías:\", calorie_std)"
      ]
    },
    {
      "cell_type": "code",
      "source": [
        "import numpy as np\n",
        "\n",
        "calorie_stats = np.genfromtxt('https://docs.google.com/spreadsheets/d/e/2PACX-1vR9TPfSyINHLPxCPjE-TZJs2oVoJFKYtBqnhDkQ7UKaicB7XtTD4jg3cAvypOs_eTT4iWt6v2zKOyne/pub?gid=32330190&single=true&output=csv', delimiter =\",\")\n",
        "averange_calories = np.mean(calorie_stats)\n",
        "prom_calories= np.array(calorie_stats)\n",
        "median_calories = np.median(calorie_stats)\n",
        "calorie_stats_sorted = np.sort(calorie_stats)\n",
        "nth_percentile = None\n",
        "for p in range(100):\n",
        "  percentile_value = np.percentile(calorie_stats, p)\n",
        "  if percentile_value > 60:\n",
        "    break\n",
        "more_than_60 = np.sum(prom_calories > 60)\n",
        "total_cereales = len(prom_calories)\n",
        "more_calories = (more_than_60 / total_cereales) * 100\n",
        "more_calories = np.mean(calorie_stats > 60) * 100\n",
        "calorie_std = np.std(calorie_stats)\n",
        "print(calorie_stats_sorted)\n",
        "print(f\"CrunchieMunchies tiene {round((averange_calories-60), 1)} calorías menos que el promedio. \")\n",
        "print(\"Calorias promedio:\", np.mean(prom_calories))\n",
        "print(\"Mediana de calorías:\", median_calories)\n",
        "print(f\"El percentil {p}%: {percentile_value} calorias\")\n",
        "print(f\"El { more_calories}% de cereales tienen más de 60 calorías por porción.\")\n",
        "print(\"Desviación estándar de las calorías:\", calorie_std)"
      ],
      "metadata": {
        "id": "0LdnH3Um9mEZ"
      },
      "execution_count": null,
      "outputs": []
    },
    {
      "cell_type": "code",
      "source": [
        "import numpy as np\n",
        "\n",
        "calories_stats = np.genfromtxt('/content/cereal.csv', delimiter = \",\")\n",
        "averange_calories = np.mean(calories_stats)\n",
        "print(round((averange_calories-60), 1))\n",
        "\n",
        "sorted_calories = np.short(calories_stats)\n",
        "print(sorted_calories)\n",
        "\n",
        "median_calories = np.median(calories_stats)\n",
        "print(median_calories)\n",
        "\n",
        "calories_stats = np.array(calories_stats)\n",
        "primer_cuartil = np.percentile(calories_stats, 25)\n",
        "tercer_cuartil = np.percentil(calories_stats, 75)\n"
      ],
      "metadata": {
        "id": "4nf_LNGq-YmZ"
      },
      "execution_count": null,
      "outputs": []
    }
  ]
}